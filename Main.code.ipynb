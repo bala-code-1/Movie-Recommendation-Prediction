

#Import Library:

import pandas as pd
import numpy as np
import matplotlib.pyplot as plt
import seaborn as sns
from sklearn.model_selection import train_test_split
from sklearn.linear_model import LinearRegression
from sklearn.ensemble import RandomForestRegressor
from sklearn.metrics import mean_squared_error, r2_score


#Import Data:

Load a dataset from a CSV file
movie_data = pd.read_csv('movies_metadata.csv')

#Overview of the dataset

print(movie_data.info())
print(movie_data.describe())
print(movie_data.head())

# Check for missing values

print(movie_data.isnull().sum())


#Data Visualization:

#Visualizing the distribution of budget vs revenue

sns.scatterplot(x='budget', y='revenue', data=movie_data)
plt.title('Budget vs Revenue')
plt.show()

# Genre-based revenue

sns.barplot(x='genres', y='revenue', data=movie_data)
plt.xticks(rotation=90)
plt.title('Revenue by Genre')
plt.show()


Data Preprocessing:

# Dropping irrelevant columns
movie_data = movie_data.drop(['homepage', 'imdb_id', 'overview', 'poster_path'], axis=1)

# Handling missing values by dropping or filling in missing entries
movie_data.fillna(movie_data.mean(), inplace=True)

# Converting release_date to datetime format
movie_data['release_date'] = pd.to_datetime(movie_data['release_date'])

# Convert categorical columns (like genres) into numerical data using one-hot encoding
movie_data = pd.get_dummies(movie_data, columns=['genres', 'original_language'], drop_first=True)


#Define Target Variable (y) and Feature Variables (X):

# Defining features and target variables
X = movie_data[['budget', 'runtime', 'popularity', 'vote_average', 'vote_count']]
y = movie_data['revenue']

# If we are doing classification (e.g., predicting success/failure)
# We can create a new target column 'success' based on revenue thresholds:
# y = movie_data['revenue'].apply(lambda x: 1 if x > some_threshold else 0)



# Train Test Split:

# Splitting the dataset into training and testing sets
X_train, X_test, y_train, y_test = train_test_split(X, y, test_size=0.3, random_state=42)


# Modeling

# Linear Regression Model
lr_model = LinearRegression()
lr_model.fit(X_train, y_train)

# Predictions
y_pred_lr = lr_model.predict(X_test)
```


# Random Forest Regressor Model
rf_model = RandomForestRegressor(n_estimators=100, random_state=42)
rf_model.fit(X_train, y_train)

# Predictions
y_pred_rf = rf_model.predict(X_test)



# Mean Squared Error & R-squared for Linear Regression
mse_lr = mean_squared_error(y_test, y_pred_lr)
r2_lr = r2_score(y_test, y_pred_lr)

print(f"Linear Regression MSE: {mse_lr}")
print(f"Linear Regression R2 Score: {r2_lr}")



# Mean Squared Error & R-squared for Random Forest
mse_rf = mean_squared_error(y_test, y_pred_rf)
r2_rf = r2_score(y_test, y_pred_rf)

print(f"Random Forest MSE: {mse_rf}")
print(f"Random Forest R2 Score: {r2_rf}")



# Predict the revenue for a new movie with certain features
new_movie = np.array([[50000000, 120, 80, 7.5, 2000]])  # Budget, Runtime, Popularity, Vote Average, Vote Count
predicted_revenue = rf_model.predict(new_movie)
print(f"Predicted Revenue for the new movie: ${predicted_revenue[0]}")







	





